{
 "cells": [
  {
   "cell_type": "markdown",
   "id": "267fb92b",
   "metadata": {},
   "source": [
    "# Preprocess"
   ]
  },
  {
   "cell_type": "markdown",
   "id": "30826ca5",
   "metadata": {},
   "source": [
    "Available GeoimageNet dataset annotations are in form of image_path, x_min, y_min, x_max, y_max, class_label for all images in single text file. But YOLO v8 requires annotations in form class_index,x_center, y_center, box_width, box_height for each image in a single text file."
   ]
  },
  {
   "cell_type": "code",
   "execution_count": 2,
   "id": "bb861814",
   "metadata": {},
   "outputs": [
    {
     "name": "stdout",
     "output_type": "stream",
     "text": [
      "Prefix removed from the text file.\n"
     ]
    }
   ],
   "source": [
    "#code to remove prefix path for image in text file\n",
    "def remove_prefix(file_path, prefix):\n",
    "    with open(file_path, 'r') as file:\n",
    "        lines = file.readlines()\n",
    "\n",
    "    with open(file_path, 'w') as file:\n",
    "        for line in lines:\n",
    "            \n",
    "            new_line = line.replace(prefix, '')\n",
    "            file.write(new_line)\n",
    "\n",
    "\n",
    "text_file_path = '/Users/rajdipingale/Downloads/Hydrocarbon/gin.test (1).txt'\n",
    "prefix_to_remove = 'data/geoimagenet/'\n",
    "remove_prefix(text_file_path, prefix_to_remove)\n",
    "print(\"Prefix removed from the text file.\")\n"
   ]
  },
  {
   "cell_type": "markdown",
   "id": "14d93e21",
   "metadata": {},
   "source": []
  },
  {
   "cell_type": "code",
   "execution_count": 6,
   "id": "1281c301",
   "metadata": {},
   "outputs": [],
   "source": [
    "import os\n",
    "import shutil\n"
   ]
  },
  {
   "cell_type": "code",
   "execution_count": 8,
   "id": "47285664",
   "metadata": {},
   "outputs": [
    {
     "name": "stdout",
     "output_type": "stream",
     "text": [
      "Dataset split completed.\n"
     ]
    }
   ],
   "source": [
    "# All images are avialable in single folder. Splitting them into Train and validation datasets\n",
    "def read_image_names(file_path):\n",
    "    with open(file_path, 'r') as file:\n",
    "        image_names = [line.split(',')[0].strip() for line in file.readlines()]\n",
    "    return image_names\n",
    "\n",
    "\n",
    "def split_dataset(image_folder, image_names, train_folder, test_folder):\n",
    "    for image_name in image_names:\n",
    "        source_path = os.path.join(image_folder, image_name)\n",
    "        if os.path.exists(source_path):\n",
    "            \n",
    "            destination_folder = train_folder if image_name in train_image_names else test_folder\n",
    "            \n",
    "            \n",
    "            destination_path = os.path.join(destination_folder, image_name)\n",
    "            shutil.move(source_path, destination_path)\n",
    "        else:\n",
    "            print(f\"Image {image_name} not found in {image_folder}\")\n",
    "\n",
    "\n",
    "train_image_folder = '/Users/rajdipingale/Downloads/Hydrocarbon/Geo_Aug'\n",
    "train_file = '/Users/rajdipingale/Downloads/Hydrocarbon/gin.train.aug.txt'\n",
    "train_folder = '/Users/rajdipingale/Downloads/Hydrocarbon/train'\n",
    "\n",
    "\n",
    "test_file = '/Users/rajdipingale/Downloads/Hydrocarbon/gin.test (1).txt'  \n",
    "test_folder = '/Users/rajdipingale/Downloads/Hydrocarbon/test'   \n",
    "\n",
    "\n",
    "train_image_names = read_image_names(train_file)\n",
    "test_image_names = read_image_names(test_file)\n",
    "\n",
    "#save images to train and test indivisual folders\n",
    "split_dataset(train_image_folder, train_image_names, train_folder, test_folder)\n",
    "split_dataset(train_image_folder, test_image_names, train_folder, test_folder)\n",
    "\n",
    "print(\"Dataset split completed.\")\n"
   ]
  },
  {
   "cell_type": "code",
   "execution_count": 10,
   "id": "5cad886e",
   "metadata": {},
   "outputs": [],
   "source": [
    "#code to save size of each images in a single text file\n",
    "\n",
    "import os\n",
    "from PIL import Image\n",
    "\n",
    "def save_image_sizes_to_file(folder_path, output_file):\n",
    "    filenames = sorted(os.listdir(folder_path))\n",
    "    \n",
    "    with open(output_file, 'w') as f:\n",
    "        for filename in filenames:\n",
    "            if filename.endswith(('.jpg', '.jpeg', '.png', '.bmp', '.gif')):\n",
    "                file_path = os.path.join(folder_path, filename)\n",
    "                with Image.open(file_path) as img:\n",
    "                    width, height = img.size\n",
    "                    f.write(f\"{filename}: {width} x {height}\\n\")\n",
    "\n",
    "#for train dataset\n",
    "Tfolder_path = '/Users/rajdipingale/Downloads/Hydrocarbon/train'\n",
    "Toutput_file = '/Users/rajdipingale/Downloads/Hydrocarbon/train_size1.txt'\n",
    "\n",
    "save_image_sizes_to_file(Tfolder_path, Toutput_file)\n",
    "#for test dataset\n",
    "Tfolder_path = '/Users/rajdipingale/Downloads/Hydrocarbon/val'\n",
    "Toutput_file = '/Users/rajdipingale/Downloads/Hydrocarbon/val_size1.txt'"
   ]
  },
  {
   "cell_type": "code",
   "execution_count": 11,
   "id": "8f69d507",
   "metadata": {},
   "outputs": [
    {
     "name": "stdout",
     "output_type": "stream",
     "text": [
      "Conversion completed.\n",
      "Files with conversion errors:\n"
     ]
    }
   ],
   "source": [
    "#converting image_path, x_min, y_min, x_max, y_max, class_label format to class_index,x_center, y_center, box_width, box_height format\n",
    "\n",
    "#function to read file size from text file\n",
    "def get_image_sizes_from_file(image_size_file):\n",
    "    image_sizes = {}\n",
    "    with open(image_size_file, 'r') as infile:\n",
    "        for line in infile:\n",
    "            parts = line.strip().split(': ')\n",
    "            if len(parts) != 2: \n",
    "                continue\n",
    "            filename, size = parts\n",
    "            width, height = map(int, size.split(' x '))\n",
    "            image_sizes[filename.strip()] = (width, height)\n",
    "    return image_sizes\n",
    "\n",
    "#function for conversion\n",
    "def convert_geoimagenet_to_yolo(input_file, output_dir, class_mapping, image_sizes):\n",
    "    if not os.path.exists(output_dir):\n",
    "        os.makedirs(output_dir)\n",
    "        \n",
    "    error_files = []\n",
    "    \n",
    "    with open(input_file, 'r') as infile:\n",
    "        lines = infile.readlines()\n",
    "        for line in lines:\n",
    "           \n",
    "            parts = line.strip().split(',')\n",
    "            if len(parts) != 6: \n",
    "                continue\n",
    "            image_path, x_min, y_min, x_max, y_max, class_label = parts\n",
    "            \n",
    "            try:\n",
    "                \n",
    "                image_width, image_height = image_sizes[os.path.basename(image_path)]\n",
    "                \n",
    "                x_center = (float(x_min) + float(x_max)) / (2.0 * image_width)\n",
    "                y_center = (float(y_min) + float(y_max)) / (2.0 * image_height)\n",
    "                box_width = (float(x_max) - float(x_min)) / image_width\n",
    "                box_height = (float(y_max) - float(y_min)) / image_height\n",
    "            except (ValueError, KeyError):\n",
    "                # Skip the line if conversion fails or image size not found\n",
    "                error_files.append(os.path.basename(image_path))\n",
    "                continue\n",
    "            \n",
    "            # Check if coordinates are within the valid range [0, 1]\n",
    "            if any(coord < 0 or coord > 1 for coord in [x_center, y_center, box_width, box_height]):\n",
    "                print(f\"WARNING: Ignoring corrupt image/label: non-normalized or out of bounds coordinates {parts[1:]}\")\n",
    "                continue\n",
    "            \n",
    "            # Get class index from the class_mapping dictionary\n",
    "            class_index = class_mapping.get(class_label, -1)\n",
    "            if class_index == -1:\n",
    "                print(f\"WARNING: Class label '{class_label}' not found in class_mapping for file '{os.path.basename(image_path)}'\")\n",
    "                continue  # Skip if class label is not found in class_mapping\n",
    "            \n",
    "            # Write COCO format annotation to output file\n",
    "            output_filename = os.path.splitext(os.path.basename(image_path))[0] + '.txt'\n",
    "            with open(os.path.join(output_dir, output_filename), 'a') as outfile:\n",
    "                outfile.write(f\"{class_index} {x_center:.6f} {y_center:.6f} {box_width:.6f} {box_height:.6f}\\n\")\n",
    "    \n",
    "    return error_files\n",
    "\n",
    "#for training data\n",
    "\n",
    "#directory for single input text file and output folder to save indivisual text file for each sample image\n",
    "input_file = '/Users/rajdipingale/Downloads/Hydrocarbon/gin.train.aug.txt'  \n",
    "output_dir = '/Users/rajdipingale/Downloads/Hydrocarbon/traintxt'  \n",
    "image_size_file = '/Users/rajdipingale/Downloads/Hydrocarbon/train_size1.txt'  \n",
    "class_mapping = {'basins': 0, 'bays': 1, 'islands': 2, 'lakes': 3, 'ridges': 4, 'Valley': 5, 'Island': 2, 'Lake': 3, 'Ridge': 2, 'Bay': 1, 'Basin': 0}\n",
    "\n",
    "\n",
    "# Get image sizes from the size file\n",
    "image_sizes = get_image_sizes_from_file(image_size_file)\n",
    "\n",
    "# Perform conversion and get error files\n",
    "error_files = convert_geoimagenet_to_yolo(input_file, output_dir, class_mapping, image_sizes)\n",
    "\n",
    "print(\"Conversion completed.\")\n",
    "print(\"Files with conversion errors:\")\n",
    "for file in error_files:\n",
    "    print(file)\n"
   ]
  },
  {
   "cell_type": "code",
   "execution_count": 15,
   "id": "776c21e4",
   "metadata": {},
   "outputs": [
    {
     "name": "stdout",
     "output_type": "stream",
     "text": [
      "Conversion completed.\n",
      "Files with conversion errors:\n"
     ]
    }
   ],
   "source": [
    "#For validation data\n",
    "\n",
    "#directory for single input text file and output folder to save indivisual text file for each sample image\n",
    "input_file = '/Users/rajdipingale/Downloads/Hydrocarbon/gin.test (1).txt'  \n",
    "output_dir = '/Users/rajdipingale/Downloads/Hydrocarbon/valtxt'  \n",
    "image_size_file = '/Users/rajdipingale/Downloads/Hydrocarbon/val_size1.txt'  \n",
    "class_mapping = {'basins': 0, 'bays': 1, 'islands': 2, 'lakes': 3, 'ridges': 4, 'Valley': 5, 'Island': 2, 'Lake': 3, 'Ridge': 2, 'Bay': 1, 'Basin': 0}\n",
    "\n",
    "\n",
    "# Get image sizes from the size file\n",
    "image_sizes = get_image_sizes_from_file(image_size_file)\n",
    "\n",
    "# Perform conversion and get error files\n",
    "error_files = convert_geoimagenet_to_yolo(input_file, output_dir, class_mapping, image_sizes)\n",
    "\n",
    "print(\"Conversion completed.\")\n",
    "print(\"Files with conversion errors:\")\n",
    "for file in error_files:\n",
    "    print(file)"
   ]
  },
  {
   "cell_type": "code",
   "execution_count": null,
   "id": "ae8cc908",
   "metadata": {},
   "outputs": [],
   "source": []
  }
 ],
 "metadata": {
  "kernelspec": {
   "display_name": "Python 3 (ipykernel)",
   "language": "python",
   "name": "python3"
  },
  "language_info": {
   "codemirror_mode": {
    "name": "ipython",
    "version": 3
   },
   "file_extension": ".py",
   "mimetype": "text/x-python",
   "name": "python",
   "nbconvert_exporter": "python",
   "pygments_lexer": "ipython3",
   "version": "3.11.3"
  }
 },
 "nbformat": 4,
 "nbformat_minor": 5
}
